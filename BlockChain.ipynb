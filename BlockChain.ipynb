{
 "cells": [
  {
   "cell_type": "code",
   "execution_count": 1,
   "id": "871209ad",
   "metadata": {},
   "outputs": [],
   "source": [
    "# Python program to create Blockchain\n",
    "\n",
    "# For timestamp\n",
    "import datetime\n",
    "\n",
    "# Calculating the hash\n",
    "# in order to add digital\n",
    "# fingerprints to the blocks\n",
    "import hashlib\n",
    "\n",
    "# To store data\n",
    "# in our blockchain\n",
    "import json\n",
    "\n",
    "\n",
    "class Blockchain:\n",
    "\n",
    "\t# This function is created\n",
    "\t# to create the very first\n",
    "\t# block and set it's hash to \"0\"\n",
    "\tdef __init__(self):\n",
    "\t\tself.chain = []\n",
    "\t\tself.create_block(proof=1, previous_hash='0')\n",
    "\n",
    "\t# This function is created\n",
    "\t# to add further blocks\n",
    "\t# into the chain\n",
    "\tdef create_block(self, proof, previous_hash):\n",
    "\t\tblock = {'index': len(self.chain) + 1,\n",
    "\t\t\t\t'timestamp': str(datetime.datetime.now()),\n",
    "\t\t\t\t'proof': proof,\n",
    "\t\t\t\t'previous_hash': previous_hash}\n",
    "\t\tself.chain.append(block)\n",
    "\t\treturn block\n",
    "\t\n",
    "\t# This function is created\n",
    "\t# to display the previous block\n",
    "\tdef print_previous_block(self):\n",
    "\t\treturn self.chain[-1]\n",
    "\t\n",
    "\t# This is the function for proof of work\n",
    "\t# and used to successfully mine the block\n",
    "\tdef proof_of_work(self, previous_proof):\n",
    "\t\tnew_proof = 1\n",
    "\t\tcheck_proof = False\n",
    "\t\t\n",
    "\t\twhile check_proof is False:\n",
    "\t\t\thash_operation = hashlib.sha256(\n",
    "\t\t\t\tstr(new_proof**2 - previous_proof**2).encode()).hexdigest()\n",
    "\t\t\tif hash_operation[:1] == '0':\n",
    "\t\t\t\tcheck_proof = True\n",
    "\t\t\telse:\n",
    "\t\t\t\tnew_proof += 1\n",
    "\t\t\t\t\n",
    "\t\treturn new_proof\n",
    "\n",
    "\tdef hash(self, block):\n",
    "\t\tencoded_block = json.dumps(block, sort_keys=True).encode()\n",
    "\t\treturn hashlib.sha256(encoded_block).hexdigest()\n",
    "\n",
    "\tdef chain_valid(self, chain):\n",
    "\t\tprevious_block = chain[0]\n",
    "\t\tblock_index = 1\n",
    "\t\t\n",
    "\t\twhile block_index < len(chain):\n",
    "\t\t\tblock = chain[block_index]\n",
    "\t\t\tif block['previous_hash'] != self.hash(previous_block):\n",
    "\t\t\t\treturn False\n",
    "\t\t\t\n",
    "\t\t\tprevious_proof = previous_block['proof']\n",
    "\t\t\tproof = block['proof']\n",
    "\t\t\thash_operation = hashlib.sha256(\n",
    "\t\t\t\tstr(proof**2 - previous_proof**2).encode()).hexdigest()\n",
    "\t\t\t\n",
    "\t\t\tif hash_operation[:1] != '0':\n",
    "\t\t\t\treturn False\n",
    "\t\t\tprevious_block = block\n",
    "\t\t\tblock_index += 1\n",
    "\t\t\n",
    "\t\treturn True\n"
   ]
  },
  {
   "cell_type": "code",
   "execution_count": 2,
   "id": "8ae01288",
   "metadata": {},
   "outputs": [],
   "source": [
    "blockchain = Blockchain()"
   ]
  },
  {
   "cell_type": "code",
   "execution_count": 15,
   "id": "7e6e6fdf",
   "metadata": {},
   "outputs": [
    {
     "data": {
      "text/plain": [
       "[{'index': 1,\n",
       "  'timestamp': '2021-12-17 22:35:15.345441',\n",
       "  'proof': 1,\n",
       "  'previous_hash': '0'},\n",
       " {'index': 2,\n",
       "  'timestamp': '2021-12-17 22:35:17.876501',\n",
       "  'proof': 20,\n",
       "  'previous_hash': '283eb8bbe674507d9bf00f1f49f7525d1d369663d0bf8d55d6590e79c50e42d2'},\n",
       " {'index': 3,\n",
       "  'timestamp': '2021-12-17 22:35:35.920386',\n",
       "  'proof': 7,\n",
       "  'previous_hash': '8203b413664eaa0c6a53eccfb9b4e1ab7c8d78017caa16deba338e6df2efbac3'},\n",
       " {'index': 4,\n",
       "  'timestamp': '2021-12-17 22:36:06.891382',\n",
       "  'proof': 10,\n",
       "  'previous_hash': '7067d6a5165c09df6c64429f6d9947354d9b03493b3341324751d3e036b67293'}]"
      ]
     },
     "execution_count": 15,
     "metadata": {},
     "output_type": "execute_result"
    }
   ],
   "source": [
    "blockchain.chain"
   ]
  },
  {
   "cell_type": "code",
   "execution_count": 16,
   "id": "61a67129",
   "metadata": {},
   "outputs": [],
   "source": [
    "previous_block = blockchain.print_previous_block()\n",
    "previous_proof = previous_block['proof']\n",
    "proof = blockchain.proof_of_work(previous_proof)"
   ]
  },
  {
   "cell_type": "code",
   "execution_count": 17,
   "id": "17a7e565",
   "metadata": {},
   "outputs": [],
   "source": [
    "previous_hash = blockchain.hash(previous_block)"
   ]
  },
  {
   "cell_type": "code",
   "execution_count": 18,
   "id": "fea7a063",
   "metadata": {},
   "outputs": [
    {
     "name": "stdout",
     "output_type": "stream",
     "text": [
      "{'index': 5, 'timestamp': '2021-12-17 22:36:25.002811', 'proof': 15, 'previous_hash': '585d99886cc54ed9b8b8aa6dcdd850a78f6bb214636480ec7b1135b1af5cad1f'}\n"
     ]
    }
   ],
   "source": [
    "block = blockchain.create_block(proof, previous_hash)\n",
    "print(block)"
   ]
  },
  {
   "cell_type": "code",
   "execution_count": 19,
   "id": "51fed793",
   "metadata": {},
   "outputs": [
    {
     "data": {
      "text/plain": [
       "True"
      ]
     },
     "execution_count": 19,
     "metadata": {},
     "output_type": "execute_result"
    }
   ],
   "source": [
    "blockchain.chain_valid(blockchain.chain)"
   ]
  },
  {
   "cell_type": "code",
   "execution_count": null,
   "id": "d8fa046a",
   "metadata": {},
   "outputs": [],
   "source": []
  },
  {
   "cell_type": "code",
   "execution_count": null,
   "id": "add91348",
   "metadata": {},
   "outputs": [],
   "source": []
  }
 ],
 "metadata": {
  "kernelspec": {
   "display_name": "Python 3 (ipykernel)",
   "language": "python",
   "name": "python3"
  },
  "language_info": {
   "codemirror_mode": {
    "name": "ipython",
    "version": 3
   },
   "file_extension": ".py",
   "mimetype": "text/x-python",
   "name": "python",
   "nbconvert_exporter": "python",
   "pygments_lexer": "ipython3",
   "version": "3.8.10"
  }
 },
 "nbformat": 4,
 "nbformat_minor": 5
}
